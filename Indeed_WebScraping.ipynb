{
 "cells": [
  {
   "cell_type": "markdown",
   "metadata": {},
   "source": [
    "# Analysis of U.S. Internship Postings on Indeed.com - A Web Scraping and pandas project"
   ]
  },
  {
   "cell_type": "markdown",
   "metadata": {},
   "source": [
    "Nearly ten years ago, Ross Perlin, author of *Intern Nation: How to Earn Nothing and Learn Little in the Brave New Economy*, estimated that U.S. employers hire for 1.5 million internships each year, and that approximately half of those internships are unpaid. More recently, in 2016, the National Association of Colleges and Employers (NACE) estimated that [around 60% of U.S. interns are paid, with most unpaid opportunities coming from social service fields](https://sites.sju.edu/careers/files/the-impact-of-unpaid-internships-on-career-development.pdf). NACE research on the topic of U.S. internships has also revealed that [college students who complete paid internships have far more favorable post-college employment outcomes than those who only complete unpaid internships](https://www.theatlantic.com/business/archive/2013/06/do-unpaid-internships-lead-to-jobs-not-for-college-students/276959/). In addition to offering interns less resume-building value than paid opportunities do, there are enduring concerns about the [equity](https://www.usnews.com/opinion/knowledge-bank/articles/2016-04-04/education-or-exploitation-should-all-internships-be-paid) and [legality](https://www.shrm.org/resourcesandtools/legal-and-compliance/employment-law/pages/is-your-unpaid-internship-program-legal.aspx) of unpaid internships. \n",
    "\n",
    "Despite all of this, unpaid internships still abound in the U.S. For this project, I set out to look at a snapshot of internship listings (posted within the last week of April 2021) on the popular job search engine Indeed.com. I was interested in exploring the following questions:\n",
    "\n",
    "* What percentage of internship opportunities currently listed on Indeed are paid positions?\n",
    "* Among the paid internship opportunities on Indeed, what are the pay rates like?\n",
    "* Geographically, where are paid internships concentrated?\n",
    "* Are certain industries more likely to pay their interns than others?\n",
    "\n",
    "I hypothesized (before reading the 2016 report from NACE) that only about 20% of internship postings would be paid opportunities, that most paid opportunities would offer around $15 per hour, that paid opportunities would be concentrated in urban areas with high costs of living (NYC, the Bay Area, Chicago, and D.C), and that most of the paid opportunities would be in the fields of web development/engineering and finance. I backed away from the industry-related inquiry after realizing that, in this time of social distancing, it appears that the industries hiring interns right now are mostly ones where remote work is possible. For example, Indeed's Hiring Lab recently reported that [the percentage all marketing internships that offer remote work jumped from 14.3\\% to 45.3\\% during the pandemic](https://www.hiringlab.org/2021/04/27/remote-internships-jump-during-pandemic/)."
   ]
  },
  {
   "cell_type": "markdown",
   "metadata": {},
   "source": [
    "## Step 1: Getting the Data (web scraping with BeautifulSoup)"
   ]
  },
  {
   "cell_type": "markdown",
   "metadata": {},
   "source": [
    "The first step of this project was to use BeautifulSoup to collect the results of a search on Indeed.com for \"intern\" postings in the U.S. This step was extremely time consuming because 1) connecting with Indeed.com to run a web-scraping program tends to trigger captcha checkpoints on Indeed's end that disrupt the program and 2) many postings on Indeed are reposted within a short timeframe, so there were *many* duplicate records in the original version of the dataset. \n",
    "\n",
    "To deal with the captcha roadblocks, I incorporated Python's `time` module to add a 2-second pause between iterations of the web scraping loop. In order to get enough unique records for analysis, I ran multiple calls of the `parse_web_data` function on multiple days in the last week of April. Some of my successful attempts to run this function took hours, because of the extra time built into the function itself as well as the high volume of webpages scraped. This function ultimately exports the scraped data to a csv file so that the data can be quickly imported for analysis later and the web scraping function does not need to be run again. After exporting this data to multiple csv files, I imported them back into Python and combined them. "
   ]
  },
  {
   "cell_type": "code",
   "execution_count": 12,
   "metadata": {},
   "outputs": [],
   "source": [
    "from bs4 import BeautifulSoup\n",
    "import requests \n",
    "import time\n",
    "import numpy as np\n",
    "import pandas as pd\n",
    "import csv\n",
    "\n",
    "def extract_web_data(pagenum):\n",
    "    \"\"\"extracts and returns a single webpage of prespecified search criteria on Indeed.com\"\"\"\n",
    "    # scrape customized search for job postings where the title contains the word \"intern,\" posted any time, located\n",
    "    # in the U.S., given the page number of the search results as a parameter. \n",
    "    site_req = requests.get('https://www.indeed.com/jobs?q=title%3Aintern&l=United+States&start={pagenum}') \n",
    "    indeed_soup = BeautifulSoup(site_req.content, 'html.parser')\n",
    "    return indeed_soup\n"
   ]
  },
  {
   "cell_type": "code",
   "execution_count": null,
   "metadata": {},
   "outputs": [],
   "source": [
    "def parse_web_data(): \n",
    "    \"\"\"calls the previous function to loop through multiple pages of Indeed search data, parsing through the results\n",
    "    and ultimately appending that data to a list\"\"\"\n",
    "    # initialize an empty list to hold the webpage data from each of the first 200 pages of search results \n",
    "    #page_list = []\n",
    "    # initialize an empty list to hold just the essential data from each job posting for the dataset we're creating\n",
    "    job_list = []\n",
    "    # loop through the first 200 pages of search results, calling the extract_web_data function on each to get the soup\n",
    "    for num in range (30000,40000,10):\n",
    "        soup = extract_web_data(num)\n",
    "        # to avoid being interrupted by 'captcha' security checks, I added a 2-second pause between iterations, which\n",
    "        # dramatically slows down the process but does seem to have increased by scraping success rate!\n",
    "        time.sleep(2)\n",
    "        divs = soup.find_all('div', class_ = 'jobsearch-SerpJobCard')\n",
    "        for item in divs:\n",
    "            # loop through each job posting to grab the job title, company name, and location\n",
    "            title = item.find('a').text.strip()\n",
    "            company = item.find('span', class_ = 'company').text.strip()\n",
    "            location = item.find('div', class_ = 'recJobLoc').get('data-rc-loc')\n",
    "            # last, grab salary information from the job posting ONLY IF it exists\n",
    "            try:\n",
    "                salary = item.find('span', class_ = 'salaryText').text.strip()\n",
    "            except: \n",
    "                salary = ''\n",
    "            # create a list of dictionaries to hold the job listing data \n",
    "            job_dict = {'title': title, 'company': company, 'location': location, 'salary': salary}\n",
    "            job_list.append(job_dict)\n",
    "    # return the list of dictionaries\n",
    "    return job_list"
   ]
  },
  {
   "cell_type": "code",
   "execution_count": 8,
   "metadata": {},
   "outputs": [],
   "source": [
    "def get_job_dataframe():\n",
    "    \"\"\"calls the previous function and converts the job data to a pandas dataframe\"\"\"\n",
    "    job_data = parse_web_data()\n",
    "    df = pd.DataFrame(job_data)\n",
    "    return df\n",
    "\n",
    "def webdata_to_csv():\n",
    "    \"\"\"calls the function that creates a pandas dataframe of the Indeed data, then writes that data to a csv\"\"\"\n",
    "    df = get_job_dataframe()\n",
    "    df.to_csv('intern_listings_sample_10000.csv')"
   ]
  },
  {
   "cell_type": "markdown",
   "metadata": {},
   "source": [
    "## Step 2: Cleaning and Normalizing the Data (pandas, lambdas, string methods, regex)"
   ]
  },
  {
   "cell_type": "markdown",
   "metadata": {},
   "source": [
    "After running my web scraping function multiple times to get adequate data for this analysis, I used the pandas module to import the csv data files into pandas dataframes. The function below then concatenates all of the separate dataframes into one, and drops all duplicate records from the final dataframe. This left me with 511 unique records. Based on the total sample size of about 40,000 postings on Indeed.com during this timeframe, a sample size of 511 allows for a confidence level of 95% and a confidence interval of 5. Since so many of the 40,000 records seemed to be duplicates, the actual confidence level may be higher. "
   ]
  },
  {
   "cell_type": "code",
   "execution_count": 55,
   "metadata": {
    "scrolled": true
   },
   "outputs": [],
   "source": [
    "import pandas as pd\n",
    "import csv\n",
    "def dedupe_data():\n",
    "    \"\"\"uses pandas functions to concatenate multiple datasets and drop all duplicate records from the dataset\"\"\"\n",
    "    # read in multiple csv files from multiple web scraping calls and assign to local pandas dataframes\n",
    "    raw_data_new = pd.read_csv(\"intern_listings_sample_20000_428.csv\", index_col=0)\n",
    "    raw_data_new2 = pd.read_csv(\"intern_listings_sample_10000.csv\", index_col=0)\n",
    "    df = pd.read_csv(\"intern_listings_sample_20000.csv\", index_col=0)\n",
    "    \n",
    "    # store all local dataframes in a list\n",
    "    datasets = [df, raw_data_new, raw_data_new2]\n",
    "    \n",
    "    # concatenate all three dataframes into one\n",
    "    df = pd.concat(datasets)\n",
    "    \n",
    "    # run the drop_duplicates() function through each full row of the dataframe\n",
    "    df = df.drop_duplicates(subset=['title','company','location','salary'])\n",
    "    \n",
    "    # export the final combined & deduplicated dataset to a csv for easy importing later\n",
    "    df.to_csv('intern_dataset_dedupe_429.csv')\n",
    "    "
   ]
  },
  {
   "cell_type": "markdown",
   "metadata": {},
   "source": [
    "Once I had a full, deduplicated dataframe, the salary data needed to be normalized. The data includes records that list hourly, daily, weekly, monthly, and annual pay rates, so I needed to create a new column to hold this salary period data for subsetting by different timeframe categories later. There were also string and special character objects ($) in the salary column that needed to be removed so that the salary column can later be analyzed as numeric data. I also split the original \"location\" column into \"city\" and \"state\" columns to take a deeper look at location. "
   ]
  },
  {
   "cell_type": "code",
   "execution_count": 2,
   "metadata": {},
   "outputs": [
    {
     "data": {
      "text/html": [
       "<div>\n",
       "<style scoped>\n",
       "    .dataframe tbody tr th:only-of-type {\n",
       "        vertical-align: middle;\n",
       "    }\n",
       "\n",
       "    .dataframe tbody tr th {\n",
       "        vertical-align: top;\n",
       "    }\n",
       "\n",
       "    .dataframe thead th {\n",
       "        text-align: right;\n",
       "    }\n",
       "</style>\n",
       "<table border=\"1\" class=\"dataframe\">\n",
       "  <thead>\n",
       "    <tr style=\"text-align: right;\">\n",
       "      <th></th>\n",
       "      <th>title</th>\n",
       "      <th>company</th>\n",
       "      <th>salary</th>\n",
       "      <th>salary_period</th>\n",
       "      <th>city</th>\n",
       "      <th>state</th>\n",
       "    </tr>\n",
       "  </thead>\n",
       "  <tbody>\n",
       "    <tr>\n",
       "      <th>0</th>\n",
       "      <td>NaN</td>\n",
       "      <td>Alteryx, Inc.</td>\n",
       "      <td>43.11</td>\n",
       "      <td>None</td>\n",
       "      <td>Broomfield</td>\n",
       "      <td>CO</td>\n",
       "    </tr>\n",
       "    <tr>\n",
       "      <th>1</th>\n",
       "      <td>Nursery and Plant Propagation Intern</td>\n",
       "      <td>Goodblend</td>\n",
       "      <td>0.00</td>\n",
       "      <td>None</td>\n",
       "      <td>Pittsburgh</td>\n",
       "      <td>PA</td>\n",
       "    </tr>\n",
       "    <tr>\n",
       "      <th>2</th>\n",
       "      <td>Data Analytics, BI &amp; Data Pipeline Intern</td>\n",
       "      <td>Cruz Street</td>\n",
       "      <td>0.00</td>\n",
       "      <td>None</td>\n",
       "      <td>Remote</td>\n",
       "      <td>None</td>\n",
       "    </tr>\n",
       "    <tr>\n",
       "      <th>3</th>\n",
       "      <td>Efficiency Study Intern</td>\n",
       "      <td>GREAT AMERICAN DELI</td>\n",
       "      <td>14.00</td>\n",
       "      <td>None</td>\n",
       "      <td>Ooltewah</td>\n",
       "      <td>TN</td>\n",
       "    </tr>\n",
       "    <tr>\n",
       "      <th>4</th>\n",
       "      <td>Intern *</td>\n",
       "      <td>Morgan Stanley</td>\n",
       "      <td>0.00</td>\n",
       "      <td>None</td>\n",
       "      <td>Walnut Creek</td>\n",
       "      <td>CA</td>\n",
       "    </tr>\n",
       "    <tr>\n",
       "      <th>...</th>\n",
       "      <td>...</td>\n",
       "      <td>...</td>\n",
       "      <td>...</td>\n",
       "      <td>...</td>\n",
       "      <td>...</td>\n",
       "      <td>...</td>\n",
       "    </tr>\n",
       "    <tr>\n",
       "      <th>5837</th>\n",
       "      <td>Information Technology Intern</td>\n",
       "      <td>The SoundSide Group</td>\n",
       "      <td>10.00</td>\n",
       "      <td>None</td>\n",
       "      <td>Plymouth</td>\n",
       "      <td>NC</td>\n",
       "    </tr>\n",
       "    <tr>\n",
       "      <th>5838</th>\n",
       "      <td>Intern - Finance</td>\n",
       "      <td>Midland States Bank</td>\n",
       "      <td>0.00</td>\n",
       "      <td>None</td>\n",
       "      <td>Effingham</td>\n",
       "      <td>IL</td>\n",
       "    </tr>\n",
       "    <tr>\n",
       "      <th>5841</th>\n",
       "      <td>UX/UI Design Intern</td>\n",
       "      <td>Native Agtech, Inc.</td>\n",
       "      <td>15.00</td>\n",
       "      <td>None</td>\n",
       "      <td>Miami</td>\n",
       "      <td>FL</td>\n",
       "    </tr>\n",
       "    <tr>\n",
       "      <th>5844</th>\n",
       "      <td>Intern, Dental Health Advocate</td>\n",
       "      <td>GEHA</td>\n",
       "      <td>0.00</td>\n",
       "      <td>None</td>\n",
       "      <td>Lee's Summit</td>\n",
       "      <td>MO</td>\n",
       "    </tr>\n",
       "    <tr>\n",
       "      <th>6059</th>\n",
       "      <td>Therapist or Therapist Intern : High-End Rehab</td>\n",
       "      <td>Summit Estate Recovery Center</td>\n",
       "      <td>35.00</td>\n",
       "      <td>None</td>\n",
       "      <td>Cupertino</td>\n",
       "      <td>CA</td>\n",
       "    </tr>\n",
       "  </tbody>\n",
       "</table>\n",
       "<p>511 rows × 6 columns</p>\n",
       "</div>"
      ],
      "text/plain": [
       "                                               title  \\\n",
       "0                                                NaN   \n",
       "1               Nursery and Plant Propagation Intern   \n",
       "2          Data Analytics, BI & Data Pipeline Intern   \n",
       "3                            Efficiency Study Intern   \n",
       "4                                           Intern *   \n",
       "...                                              ...   \n",
       "5837                   Information Technology Intern   \n",
       "5838                                Intern - Finance   \n",
       "5841                             UX/UI Design Intern   \n",
       "5844                  Intern, Dental Health Advocate   \n",
       "6059  Therapist or Therapist Intern : High-End Rehab   \n",
       "\n",
       "                            company  salary salary_period          city state  \n",
       "0                     Alteryx, Inc.   43.11          None    Broomfield    CO  \n",
       "1                         Goodblend    0.00          None    Pittsburgh    PA  \n",
       "2                       Cruz Street    0.00          None        Remote  None  \n",
       "3               GREAT AMERICAN DELI   14.00          None      Ooltewah    TN  \n",
       "4                    Morgan Stanley    0.00          None  Walnut Creek    CA  \n",
       "...                             ...     ...           ...           ...   ...  \n",
       "5837            The SoundSide Group   10.00          None      Plymouth    NC  \n",
       "5838            Midland States Bank    0.00          None     Effingham    IL  \n",
       "5841            Native Agtech, Inc.   15.00          None         Miami    FL  \n",
       "5844                           GEHA    0.00          None  Lee's Summit    MO  \n",
       "6059  Summit Estate Recovery Center   35.00          None     Cupertino    CA  \n",
       "\n",
       "[511 rows x 6 columns]"
      ]
     },
     "execution_count": 2,
     "metadata": {},
     "output_type": "execute_result"
    }
   ],
   "source": [
    "import pandas as pd\n",
    "\n",
    "def clean_data():\n",
    "    \"\"\"normalizes the dataset so that we can run more interesting analyses with it\"\"\"\n",
    "    # import csv dataset created in the previous function and assign it to a local pandas dataframe\n",
    "    intern_data = pd.read_csv(\"intern_dataset_dedupe_429.csv\", index_col=0)\n",
    "    \n",
    "    # use string method to split the 'location' column into 2 new columns: 'city' and 'state'\n",
    "    intern_data[['city','state']] = intern_data.location.str.split(\",\",expand=True)\n",
    "    \n",
    "    # use the same string method to split the 'salary' column into 2 new columns: 1 for the numeric values and 1 for\n",
    "    # the pay period string data ('hour' ,'day', 'month', 'year')\n",
    "    intern_data[['salary','salary_period']] = intern_data.salary.str.split(\" an \", expand=True )\n",
    "    intern_data[['salary','salary_period']] = intern_data.salary.str.split(\" a \", expand=True )\n",
    "    intern_df = (intern_data[['title', 'company', 'salary', 'salary_period', 'city', 'state']])\n",
    "    \n",
    "    # now, use pd.DataFrame.replace() function and regular expressions to remove all remaining non-numeric \n",
    "    # characters from the 'salary' column \n",
    "    intern_df = intern_df.replace(to_replace={'salary': {r'From':'', r'Up to':'', r'\\$':'', r',':''}}, regex=True)\n",
    "    \n",
    "    # use str.split once again to deal with salary ranges: split into two temporary columns on the '-' character\n",
    "    intern_df[['salary_min', 'salary_max']] = intern_df.salary.str.split(\"-\", expand=True)\n",
    "    intern_df = (intern_df[['title', 'company', 'salary_min', 'salary_max', 'salary_period', 'city', 'state']])\n",
    "    # this video was extremely helpful when debugging the common pandas SettingWithCopy warning I got here: https://www.youtube.com/watch?v=4R4WsDJ-KVc\n",
    "    \n",
    "    # now, use exception handling to iterate through these two columns, calculating an average wage for all records\n",
    "    # that included salary ranges\n",
    "    try:\n",
    "        intern_df['salary_min'] = intern_df.apply(lambda x,y: x['salary_min'] + y['salary_max']/ 2, axis=1)\n",
    "    except:\n",
    "        intern_df['salary_max'] = ''\n",
    "    # salary_min now contains all of the normalized numeric data for all records with salary data. We can now drop \n",
    "    # the salary_max column and change the data type in salary_min from object to float64\n",
    "    intern_df['salary_min'] = intern_df['salary_min'].astype(float)\n",
    "    intern_df = (intern_df[['title', 'company', 'salary_min', 'salary_period', 'city', 'state']])\n",
    "    intern_df.columns = ['title', 'company', 'salary', 'salary_period', 'city', 'state']\n",
    "    \n",
    "    # finally, fill in the null values in the 'salary' and 'salary_period' columns so that they can easily be filtered \n",
    "    # later\n",
    "    intern_df['salary'].fillna(value=0, inplace=True)\n",
    "    intern_df['salary_period'].fillna(value='None', inplace=True)\n",
    "\n",
    "    return intern_df\n",
    "\n",
    "clean_data()\n"
   ]
  },
  {
   "cell_type": "markdown",
   "metadata": {},
   "source": [
    "## Step 3: Analyzing the Data, at Long Last! (logical subsetting with pandas)"
   ]
  },
  {
   "cell_type": "code",
   "execution_count": 3,
   "metadata": {},
   "outputs": [
    {
     "data": {
      "text/plain": [
       "(222, 6)"
      ]
     },
     "execution_count": 3,
     "metadata": {},
     "output_type": "execute_result"
    }
   ],
   "source": [
    "df = clean_data()\n",
    "\n",
    "salary_subset = df[(df.salary > 0)]\n",
    "\n",
    "salary_subset.shape"
   ]
  },
  {
   "cell_type": "markdown",
   "metadata": {},
   "source": [
    "^This quick check tells us that there are 222 internship records in the dataframe with salary information, about 43% of all records in the dataset, which is way higher than I originally hypothesized, but also much lower than the 60% reported by the National Association of Colleges and Employers in 2016. \n",
    "\n",
    "### Geographic Trends - All Internship Postings"
   ]
  },
  {
   "cell_type": "code",
   "execution_count": 4,
   "metadata": {},
   "outputs": [
    {
     "name": "stdout",
     "output_type": "stream",
     "text": [
      "Most Frequently Occurring Cities: \n",
      "Remote           51\n",
      "New York         18\n",
      "Pittsburgh       13\n",
      "Los Angeles       8\n",
      "Milwaukee         8\n",
      "Columbus          7\n",
      "Austin            6\n",
      "United States     6\n",
      "Washington        5\n",
      "St. Louis         5\n",
      "Name: city, dtype: int64\n",
      "\n",
      "Most Frequently Occurring States: \n",
      " CA    56\n",
      " PA    39\n",
      " NY    32\n",
      " FL    22\n",
      " TX    22\n",
      " WI    21\n",
      " MO    20\n",
      " NC    19\n",
      " IL    19\n",
      " OH    16\n",
      "Name: state, dtype: int64\n"
     ]
    }
   ],
   "source": [
    "def get_all_internships_geog():\n",
    "    \"\"\"reads in the normalized dataframe from the last function and counts occurrences of unique cities and states\"\"\"\n",
    "    # store dataframe to local variable\n",
    "    df = clean_data()\n",
    "    \n",
    "    # use value_counts and .head functions to get the top ten most frequently occurring cities and states\n",
    "    top_states_all = pd.value_counts(df['state']).head(10)\n",
    "    top_cities_all = pd.value_counts(df['city']).head(10)\n",
    "\n",
    "    print(\"Most Frequently Occurring Cities: \")\n",
    "    print(top_cities_all)\n",
    "    print(\"\")\n",
    "    print(\"Most Frequently Occurring States: \")\n",
    "    print(top_states_all)\n",
    "    \n",
    "get_all_internships_geog()\n"
   ]
  },
  {
   "cell_type": "markdown",
   "metadata": {},
   "source": [
    "Unsurprisingly, in the time of COVID, remote is by far the most commonly occurring location for internships!\n",
    "\n",
    "### Geographic Trends - Paid Internship Postings"
   ]
  },
  {
   "cell_type": "code",
   "execution_count": 6,
   "metadata": {},
   "outputs": [
    {
     "name": "stdout",
     "output_type": "stream",
     "text": [
      "Most Frequently Occurring Cities among Paid Internship Listings: \n",
      "Remote         28\n",
      "Los Angeles     5\n",
      "New York        4\n",
      "San Jose        4\n",
      "Miami           4\n",
      "Columbus        4\n",
      "Troy            3\n",
      "Lincoln         3\n",
      "Pittsburgh      3\n",
      "Fort Worth      3\n",
      "Name: city, dtype: int64\n",
      "\n",
      "Most Frequently Occurring States among Paid Internship Listings: \n",
      " CA    25\n",
      " FL    14\n",
      " TX    12\n",
      " CO    12\n",
      " MI     9\n",
      " WI     9\n",
      " NY     9\n",
      " NC     7\n",
      " OH     7\n",
      " MO     6\n",
      "Name: state, dtype: int64\n"
     ]
    }
   ],
   "source": [
    "def get_paid_internships_geog():\n",
    "    \"\"\"reads in the normalized dataframe, creates a subset of the dataframe that includes only records with \n",
    "    salary data, and counts occurrences of unique cities and states\"\"\"\n",
    "    # store dataframe to local variable\n",
    "    df = clean_data()\n",
    "    # create and store paid internship subset\n",
    "    salary_subset = df[(df.salary > 0)]\n",
    "    \n",
    "    # use value_counts and .head functions to get the top ten most frequently occurring cities and states\n",
    "    top_states = pd.value_counts(salary_subset['state']).head(10)\n",
    "    top_cities = pd.value_counts(salary_subset['city']).head(10)\n",
    "    \n",
    "    print(\"Most Frequently Occurring Cities among Paid Internship Listings: \")\n",
    "    print(top_cities)\n",
    "    print(\"\")\n",
    "    print(\"Most Frequently Occurring States among Paid Internship Listings: \")\n",
    "    print(top_states)\n",
    "\n",
    "get_paid_internships_geog()"
   ]
  },
  {
   "cell_type": "markdown",
   "metadata": {},
   "source": [
    "Interestingly, more than half of all remote-based internships are paid opportunities! Additionally, it looks like about half of the records for several states (California, Texas, Florida, etc.) are remote opportunities as well. \n",
    "<br>\n",
    "<br>\n",
    "## Salary Offerings by Pay Period Category"
   ]
  },
  {
   "cell_type": "markdown",
   "metadata": {},
   "source": [
    "In this section, I compared by findings to the current national averages reported by [Indeed](https://www.indeed.com/career/intern/salaries) and [ZipRecruiter](https://www.ziprecruiter.com/Salaries/Intern-Salary-per-Hour) for all U.S. internships. "
   ]
  },
  {
   "cell_type": "code",
   "execution_count": 8,
   "metadata": {},
   "outputs": [
    {
     "data": {
      "text/html": [
       "<div>\n",
       "<style scoped>\n",
       "    .dataframe tbody tr th:only-of-type {\n",
       "        vertical-align: middle;\n",
       "    }\n",
       "\n",
       "    .dataframe tbody tr th {\n",
       "        vertical-align: top;\n",
       "    }\n",
       "\n",
       "    .dataframe thead th {\n",
       "        text-align: right;\n",
       "    }\n",
       "</style>\n",
       "<table border=\"1\" class=\"dataframe\">\n",
       "  <thead>\n",
       "    <tr style=\"text-align: right;\">\n",
       "      <th></th>\n",
       "      <th>salary</th>\n",
       "    </tr>\n",
       "  </thead>\n",
       "  <tbody>\n",
       "    <tr>\n",
       "      <th>count</th>\n",
       "      <td>37.000000</td>\n",
       "    </tr>\n",
       "    <tr>\n",
       "      <th>mean</th>\n",
       "      <td>42716.216216</td>\n",
       "    </tr>\n",
       "    <tr>\n",
       "      <th>std</th>\n",
       "      <td>11578.560492</td>\n",
       "    </tr>\n",
       "    <tr>\n",
       "      <th>min</th>\n",
       "      <td>15000.000000</td>\n",
       "    </tr>\n",
       "    <tr>\n",
       "      <th>25%</th>\n",
       "      <td>38000.000000</td>\n",
       "    </tr>\n",
       "    <tr>\n",
       "      <th>50%</th>\n",
       "      <td>43000.000000</td>\n",
       "    </tr>\n",
       "    <tr>\n",
       "      <th>75%</th>\n",
       "      <td>48000.000000</td>\n",
       "    </tr>\n",
       "    <tr>\n",
       "      <th>max</th>\n",
       "      <td>65000.000000</td>\n",
       "    </tr>\n",
       "  </tbody>\n",
       "</table>\n",
       "</div>"
      ],
      "text/plain": [
       "             salary\n",
       "count     37.000000\n",
       "mean   42716.216216\n",
       "std    11578.560492\n",
       "min    15000.000000\n",
       "25%    38000.000000\n",
       "50%    43000.000000\n",
       "75%    48000.000000\n",
       "max    65000.000000"
      ]
     },
     "execution_count": 8,
     "metadata": {},
     "output_type": "execute_result"
    }
   ],
   "source": [
    "def get_annual_salaries():\n",
    "    \"\"\"subsets original dataframe and runs descriptive statistics for all records that list an annual salary\"\"\"\n",
    "    df = clean_data()\n",
    "    # store a subset of the data to a local variable\n",
    "    per_year_subset = df[(df.salary_period == 'year')]\n",
    "    # use .describe function to get the stats!\n",
    "    return per_year_subset.describe()\n",
    "\n",
    "get_annual_salaries()"
   ]
  },
  {
   "cell_type": "markdown",
   "metadata": {},
   "source": [
    "There are 37 intern postings in the dataframe with annual salaries reported. The mean and median salaries for this subset of postings are relatively close, at \\\\$42,716 and \\\\$43,000 respectively. This is significantly higher than the national average intern salary currently reported by ZipRecruiter (\\\\$31,255) as well as the national average reported by Indeed (\\\\$32,669).\n"
   ]
  },
  {
   "cell_type": "code",
   "execution_count": 4,
   "metadata": {},
   "outputs": [
    {
     "data": {
      "text/html": [
       "<div>\n",
       "<style scoped>\n",
       "    .dataframe tbody tr th:only-of-type {\n",
       "        vertical-align: middle;\n",
       "    }\n",
       "\n",
       "    .dataframe tbody tr th {\n",
       "        vertical-align: top;\n",
       "    }\n",
       "\n",
       "    .dataframe thead th {\n",
       "        text-align: right;\n",
       "    }\n",
       "</style>\n",
       "<table border=\"1\" class=\"dataframe\">\n",
       "  <thead>\n",
       "    <tr style=\"text-align: right;\">\n",
       "      <th></th>\n",
       "      <th>salary</th>\n",
       "    </tr>\n",
       "  </thead>\n",
       "  <tbody>\n",
       "    <tr>\n",
       "      <th>count</th>\n",
       "      <td>11.000000</td>\n",
       "    </tr>\n",
       "    <tr>\n",
       "      <th>mean</th>\n",
       "      <td>1909.090909</td>\n",
       "    </tr>\n",
       "    <tr>\n",
       "      <th>std</th>\n",
       "      <td>1438.370290</td>\n",
       "    </tr>\n",
       "    <tr>\n",
       "      <th>min</th>\n",
       "      <td>1000.000000</td>\n",
       "    </tr>\n",
       "    <tr>\n",
       "      <th>25%</th>\n",
       "      <td>1000.000000</td>\n",
       "    </tr>\n",
       "    <tr>\n",
       "      <th>50%</th>\n",
       "      <td>1000.000000</td>\n",
       "    </tr>\n",
       "    <tr>\n",
       "      <th>75%</th>\n",
       "      <td>2600.000000</td>\n",
       "    </tr>\n",
       "    <tr>\n",
       "      <th>max</th>\n",
       "      <td>5500.000000</td>\n",
       "    </tr>\n",
       "  </tbody>\n",
       "</table>\n",
       "</div>"
      ],
      "text/plain": [
       "            salary\n",
       "count    11.000000\n",
       "mean   1909.090909\n",
       "std    1438.370290\n",
       "min    1000.000000\n",
       "25%    1000.000000\n",
       "50%    1000.000000\n",
       "75%    2600.000000\n",
       "max    5500.000000"
      ]
     },
     "execution_count": 4,
     "metadata": {},
     "output_type": "execute_result"
    }
   ],
   "source": [
    "def get_monthly_salaries():\n",
    "    \"\"\"subsets original dataframe and runs descriptive statistics for all records that list a monthly salary\"\"\"\n",
    "    df = clean_data()\n",
    "    # store a subset of the data to a local variable\n",
    "    per_month_subset = df[(df.salary_period == 'month')]\n",
    "    # use .describe function to get the stats!\n",
    "    return per_month_subset.describe()\n",
    "    \n",
    "\n",
    "get_monthly_salaries()"
   ]
  },
  {
   "cell_type": "markdown",
   "metadata": {},
   "source": [
    "There are 11 intern postings in the dataframe with monthly salaries reported. Since the median and minimum are euqal, we know that half of these postings = \\\\$1,000. There is at least one outlier on the high end that is driving up the mean value to $1,900. The national averages reported by Indeed and ZipRecruiter is closer to the 3rd quartile of this data subset (\\\\$2,317 and \\\\$2,604). The above-average salaries in this subset are in the fields of machine learning, venture capital, industrial design & production, and sales. The lower salaries span a wide variety of fields, including marketing, human resources, project management, and various research opportunities with a DC-based think tank. "
   ]
  },
  {
   "cell_type": "code",
   "execution_count": 142,
   "metadata": {},
   "outputs": [
    {
     "data": {
      "text/html": [
       "<div>\n",
       "<style scoped>\n",
       "    .dataframe tbody tr th:only-of-type {\n",
       "        vertical-align: middle;\n",
       "    }\n",
       "\n",
       "    .dataframe tbody tr th {\n",
       "        vertical-align: top;\n",
       "    }\n",
       "\n",
       "    .dataframe thead th {\n",
       "        text-align: right;\n",
       "    }\n",
       "</style>\n",
       "<table border=\"1\" class=\"dataframe\">\n",
       "  <thead>\n",
       "    <tr style=\"text-align: right;\">\n",
       "      <th></th>\n",
       "      <th>salary</th>\n",
       "    </tr>\n",
       "  </thead>\n",
       "  <tbody>\n",
       "    <tr>\n",
       "      <th>count</th>\n",
       "      <td>1.0</td>\n",
       "    </tr>\n",
       "    <tr>\n",
       "      <th>mean</th>\n",
       "      <td>250.0</td>\n",
       "    </tr>\n",
       "    <tr>\n",
       "      <th>std</th>\n",
       "      <td>NaN</td>\n",
       "    </tr>\n",
       "    <tr>\n",
       "      <th>min</th>\n",
       "      <td>250.0</td>\n",
       "    </tr>\n",
       "    <tr>\n",
       "      <th>25%</th>\n",
       "      <td>250.0</td>\n",
       "    </tr>\n",
       "    <tr>\n",
       "      <th>50%</th>\n",
       "      <td>250.0</td>\n",
       "    </tr>\n",
       "    <tr>\n",
       "      <th>75%</th>\n",
       "      <td>250.0</td>\n",
       "    </tr>\n",
       "    <tr>\n",
       "      <th>max</th>\n",
       "      <td>250.0</td>\n",
       "    </tr>\n",
       "  </tbody>\n",
       "</table>\n",
       "</div>"
      ],
      "text/plain": [
       "       salary\n",
       "count     1.0\n",
       "mean    250.0\n",
       "std       NaN\n",
       "min     250.0\n",
       "25%     250.0\n",
       "50%     250.0\n",
       "75%     250.0\n",
       "max     250.0"
      ]
     },
     "execution_count": 142,
     "metadata": {},
     "output_type": "execute_result"
    }
   ],
   "source": [
    "def get_weekly_salaries():\n",
    "    \"\"\"subsets original dataframe and runs descriptive statistics for all records that list a weekly salary\"\"\"\n",
    "    df = clean_data()\n",
    "    # store a subset of the data to a local variable\n",
    "    per_week_subset = df[(df.salary_period == 'week')]\n",
    "    # use .describe function to get the stats!\n",
    "    return per_week_subset.describe()\n",
    "\n",
    "get_weekly_salaries()"
   ]
  },
  {
   "cell_type": "code",
   "execution_count": 143,
   "metadata": {},
   "outputs": [
    {
     "data": {
      "text/html": [
       "<div>\n",
       "<style scoped>\n",
       "    .dataframe tbody tr th:only-of-type {\n",
       "        vertical-align: middle;\n",
       "    }\n",
       "\n",
       "    .dataframe tbody tr th {\n",
       "        vertical-align: top;\n",
       "    }\n",
       "\n",
       "    .dataframe thead th {\n",
       "        text-align: right;\n",
       "    }\n",
       "</style>\n",
       "<table border=\"1\" class=\"dataframe\">\n",
       "  <thead>\n",
       "    <tr style=\"text-align: right;\">\n",
       "      <th></th>\n",
       "      <th>salary</th>\n",
       "    </tr>\n",
       "  </thead>\n",
       "  <tbody>\n",
       "    <tr>\n",
       "      <th>count</th>\n",
       "      <td>4.0</td>\n",
       "    </tr>\n",
       "    <tr>\n",
       "      <th>mean</th>\n",
       "      <td>130.0</td>\n",
       "    </tr>\n",
       "    <tr>\n",
       "      <th>std</th>\n",
       "      <td>0.0</td>\n",
       "    </tr>\n",
       "    <tr>\n",
       "      <th>min</th>\n",
       "      <td>130.0</td>\n",
       "    </tr>\n",
       "    <tr>\n",
       "      <th>25%</th>\n",
       "      <td>130.0</td>\n",
       "    </tr>\n",
       "    <tr>\n",
       "      <th>50%</th>\n",
       "      <td>130.0</td>\n",
       "    </tr>\n",
       "    <tr>\n",
       "      <th>75%</th>\n",
       "      <td>130.0</td>\n",
       "    </tr>\n",
       "    <tr>\n",
       "      <th>max</th>\n",
       "      <td>130.0</td>\n",
       "    </tr>\n",
       "  </tbody>\n",
       "</table>\n",
       "</div>"
      ],
      "text/plain": [
       "       salary\n",
       "count     4.0\n",
       "mean    130.0\n",
       "std       0.0\n",
       "min     130.0\n",
       "25%     130.0\n",
       "50%     130.0\n",
       "75%     130.0\n",
       "max     130.0"
      ]
     },
     "execution_count": 143,
     "metadata": {},
     "output_type": "execute_result"
    }
   ],
   "source": [
    "def get_daily_salaries():\n",
    "    \"\"\"subsets original dataframe and runs descriptive statistics for all records that list a daily salary\"\"\"\n",
    "    df = clean_data()\n",
    "    # store a subset of the data to a local variable\n",
    "    per_day_subset = df[(df.salary_period == 'day')]\n",
    "    # use .describe function to get the stats!\n",
    "    return per_day_subset.describe()\n",
    "\n",
    "get_daily_salaries()"
   ]
  },
  {
   "cell_type": "code",
   "execution_count": 7,
   "metadata": {},
   "outputs": [
    {
     "data": {
      "text/html": [
       "<div>\n",
       "<style scoped>\n",
       "    .dataframe tbody tr th:only-of-type {\n",
       "        vertical-align: middle;\n",
       "    }\n",
       "\n",
       "    .dataframe tbody tr th {\n",
       "        vertical-align: top;\n",
       "    }\n",
       "\n",
       "    .dataframe thead th {\n",
       "        text-align: right;\n",
       "    }\n",
       "</style>\n",
       "<table border=\"1\" class=\"dataframe\">\n",
       "  <thead>\n",
       "    <tr style=\"text-align: right;\">\n",
       "      <th></th>\n",
       "      <th>salary</th>\n",
       "    </tr>\n",
       "  </thead>\n",
       "  <tbody>\n",
       "    <tr>\n",
       "      <th>count</th>\n",
       "      <td>169.000000</td>\n",
       "    </tr>\n",
       "    <tr>\n",
       "      <th>mean</th>\n",
       "      <td>15.519172</td>\n",
       "    </tr>\n",
       "    <tr>\n",
       "      <th>std</th>\n",
       "      <td>5.429523</td>\n",
       "    </tr>\n",
       "    <tr>\n",
       "      <th>min</th>\n",
       "      <td>7.250000</td>\n",
       "    </tr>\n",
       "    <tr>\n",
       "      <th>25%</th>\n",
       "      <td>12.000000</td>\n",
       "    </tr>\n",
       "    <tr>\n",
       "      <th>50%</th>\n",
       "      <td>15.000000</td>\n",
       "    </tr>\n",
       "    <tr>\n",
       "      <th>75%</th>\n",
       "      <td>17.000000</td>\n",
       "    </tr>\n",
       "    <tr>\n",
       "      <th>max</th>\n",
       "      <td>43.110000</td>\n",
       "    </tr>\n",
       "  </tbody>\n",
       "</table>\n",
       "</div>"
      ],
      "text/plain": [
       "           salary\n",
       "count  169.000000\n",
       "mean    15.519172\n",
       "std      5.429523\n",
       "min      7.250000\n",
       "25%     12.000000\n",
       "50%     15.000000\n",
       "75%     17.000000\n",
       "max     43.110000"
      ]
     },
     "execution_count": 7,
     "metadata": {},
     "output_type": "execute_result"
    }
   ],
   "source": [
    "import csv\n",
    "\n",
    "def get_hourly_salaries():\n",
    "    \"\"\"subsets original dataframe and runs descriptive statistics for all records that list an hourly wage\"\"\"\n",
    "    df = clean_data()\n",
    "    # 'hourly' is the default setting on Indeed postings, so 'hour' does not appear in our salary_period column. \n",
    "    # We can safely assume that anything without a 'salary_period' value that also has a value > 0 in 'salary'\n",
    "    # is a posting with an hourly wage listed\n",
    "    per_hour_subset = df[(df.salary_period == 'None') & (df.salary > 0)]\n",
    "    return per_hour_subset.describe()\n",
    "\n",
    "get_hourly_salaries()"
   ]
  },
  {
   "cell_type": "markdown",
   "metadata": {},
   "source": [
    "The distribution of hourly wages in this subset of the dataframe is nearly normal—although as you'll see in the boxplot below, there are four upper-fence outlier cases. The median and mean are right around \\\\$15 per hour, which is higher than the national average reported by Indeed (\\\\$14.03) but right on par with the national average reported by ZipRecruiter (\\\\$15.03). "
   ]
  },
  {
   "cell_type": "code",
   "execution_count": 174,
   "metadata": {},
   "outputs": [
    {
     "data": {
      "image/png": "[encoded data removed]",
      "text/plain": [
       "<Figure size 1152x1152 with 1 Axes>"
      ]
     },
     "metadata": {
      "needs_background": "light"
     },
     "output_type": "display_data"
    }
   ],
   "source": [
    "from matplotlib import pyplot as plt\n",
    "\n",
    "def plot_hourly_wages():\n",
    "    \"\"\"subsets the original dataframe and creates a boxplot of all hourly wage data in the dataframe\"\"\"\n",
    "    df = clean_data()\n",
    "    # 'hourly' is the default setting on Indeed postings, so 'hour' does not appear in our salary_period column. \n",
    "    # We can safely assume that anything without a 'salary_period' value that also has a value > 0 in 'salary'\n",
    "    # is a posting with an hourly wage listed\n",
    "    per_hour_subset = df[(df.salary_period == 'None') & (df.salary > 0)]\n",
    "    # adjust the figure size before specifying the plot you want\n",
    "    plt.figure(figsize=(16,16))\n",
    "    \n",
    "    # use pandas indexing to specify one column of the dataframe for plotting\n",
    "    per_hour_subset['salary'].plot(kind='box', notch=True)\n",
    "    plt.ylabel('$ per hour', size=20)\n",
    "    plt.title('Hourly Wages in Indeed Internship Postings (n=169)', size=22)\n",
    "\n",
    "plot_hourly_wages()\n",
    "    "
   ]
  },
  {
   "cell_type": "markdown",
   "metadata": {},
   "source": [
    "## Step 4: Conclusions \n",
    "\n",
    "* Among 511 unique postings for internships featured on Indeed.com in the last week of April 2021, 43\\% (222) were paid opportunities.\n",
    "* Among the paid opportunities, more than half (67\\%) offered an hourly wage ranging between \\\\$10 and \\\\$20. \n",
    "* About half of all remote-based internships posted to Indeed in this timeframe were paid opportunities. Additionally, about half of all internships in populous states like California, Texas, and Florida were paid. Remote-based positions were more likely to be paid than those based in any specific U.S. location. \n",
    "* Internships offering annual salaries had more variation in pay rate than those in any other salary period category, with a min of \\\\$15,000, a max of \\\\$65,000, and a stadard deviation of \\\\$11,578.  "
   ]
  },
  {
   "cell_type": "markdown",
   "metadata": {},
   "source": [
    "### Limitations\n",
    "\n",
    "* Around 45 records in the final dataset did not have job titles, so it is difficult to glean insights related to industry from these postings.\n",
    "* While Indeed.com hosts tens of thousands of internship postings at any given time, there are other internship-specific search engines, like Handshake, which may be used by some employers instead of Indeed and that may prevent us from gaining a full picture of the current internship landscape from Indeed data alone. \n",
    "* Some industries may be underrepresented in this dataset as a result of the pandemic, during which many internship programs have been suspended (many involving work that cannot be accomplished on a remote basis). "
   ]
  },
  {
   "cell_type": "markdown",
   "metadata": {},
   "source": [
    "### Future Research\n",
    "\n",
    "According to [a recent analytics report from Indeed](https://www.hiringlab.org/2021/04/27/remote-internships-jump-during-pandemic/), the rate of internship postings typically peaks in early April each year and slowly declines over the next few months. It would be interesting to scrape data over an earlier and longer timeframe in the spring to obtain a larger dataset for further analysis. It would also be interesting to compare which industries are represented among Indeed's internship postings right now compared to a year from now, when location-based internship programs may be reinvigorated. "
   ]
  }
 ],
 "metadata": {
  "kernelspec": {
   "display_name": "Python 3",
   "language": "python",
   "name": "python3"
  },
  "language_info": {
   "codemirror_mode": {
    "name": "ipython",
    "version": 3
   },
   "file_extension": ".py",
   "mimetype": "text/x-python",
   "name": "python",
   "nbconvert_exporter": "python",
   "pygments_lexer": "ipython3",
   "version": "3.8.3"
  }
 },
 "nbformat": 4,
 "nbformat_minor": 4
}
